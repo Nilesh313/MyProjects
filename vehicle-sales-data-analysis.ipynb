{
 "cells": [
  {
   "cell_type": "code",
   "execution_count": 1,
   "metadata": {},
   "outputs": [],
   "source": [
    "!pip install jovian --upgrade --quiet"
   ]
  },
  {
   "cell_type": "code",
   "execution_count": 2,
   "metadata": {},
   "outputs": [],
   "source": [
    "import jovian"
   ]
  },
  {
   "cell_type": "code",
   "execution_count": 3,
   "metadata": {},
   "outputs": [],
   "source": [
    "import numpy as np # linear algebra\n",
    "import pandas as pd # data processing, CSV file I/O (e.g. pd.read_csv)\n",
    "import matplotlib.pyplot as plt"
   ]
  },
  {
   "cell_type": "code",
   "execution_count": 5,
   "metadata": {},
   "outputs": [],
   "source": [
    "import seaborn as sns"
   ]
  },
  {
   "cell_type": "code",
   "execution_count": 6,
   "metadata": {},
   "outputs": [
    {
     "name": "stdout",
     "output_type": "stream",
     "text": [
      "Collecting pandas-profiling\n",
      "  Downloading pandas_profiling-2.9.0-py2.py3-none-any.whl (258 kB)\n",
      "\u001b[K     |████████████████████████████████| 258 kB 4.6 MB/s eta 0:00:01\n",
      "\u001b[?25hRequirement already satisfied, skipping upgrade: requests>=2.23.0 in /opt/conda/lib/python3.8/site-packages (from pandas-profiling) (2.24.0)\n",
      "Requirement already satisfied, skipping upgrade: ipywidgets>=7.5.1 in /opt/conda/lib/python3.8/site-packages (from pandas-profiling) (7.5.1)\n",
      "Requirement already satisfied, skipping upgrade: jinja2>=2.11.1 in /opt/conda/lib/python3.8/site-packages (from pandas-profiling) (2.11.2)\n",
      "Requirement already satisfied, skipping upgrade: numpy>=1.16.0 in /opt/conda/lib/python3.8/site-packages (from pandas-profiling) (1.19.2)\n",
      "Collecting phik>=0.9.10\n",
      "  Downloading phik-0.10.0-py3-none-any.whl (599 kB)\n",
      "\u001b[K     |████████████████████████████████| 599 kB 7.1 MB/s eta 0:00:01\n",
      "\u001b[?25hCollecting confuse>=1.0.0\n",
      "  Downloading confuse-1.4.0-py2.py3-none-any.whl (21 kB)\n",
      "Requirement already satisfied, skipping upgrade: pandas!=1.0.0,!=1.0.1,!=1.0.2,!=1.1.0,>=0.25.3 in /opt/conda/lib/python3.8/site-packages (from pandas-profiling) (1.1.3)\n",
      "Requirement already satisfied, skipping upgrade: joblib in /opt/conda/lib/python3.8/site-packages (from pandas-profiling) (0.17.0)\n",
      "Collecting visions[type_image_path]==0.5.0\n",
      "  Downloading visions-0.5.0-py3-none-any.whl (64 kB)\n",
      "\u001b[K     |████████████████████████████████| 64 kB 3.9 MB/s  eta 0:00:01\n",
      "\u001b[?25hCollecting tangled-up-in-unicode>=0.0.6\n",
      "  Downloading tangled_up_in_unicode-0.0.6-py3-none-any.whl (3.1 MB)\n",
      "\u001b[K     |████████████████████████████████| 3.1 MB 11.0 MB/s eta 0:00:01\n",
      "\u001b[?25hRequirement already satisfied, skipping upgrade: seaborn>=0.10.1 in /opt/conda/lib/python3.8/site-packages (from pandas-profiling) (0.11.0)\n",
      "Requirement already satisfied, skipping upgrade: matplotlib>=3.2.0 in /opt/conda/lib/python3.8/site-packages (from pandas-profiling) (3.3.2)\n",
      "Requirement already satisfied, skipping upgrade: scipy>=1.4.1 in /opt/conda/lib/python3.8/site-packages (from pandas-profiling) (1.5.2)\n",
      "Collecting htmlmin>=0.1.12\n",
      "  Downloading htmlmin-0.1.12.tar.gz (19 kB)\n",
      "Collecting missingno>=0.4.2\n",
      "  Downloading missingno-0.4.2-py3-none-any.whl (9.7 kB)\n",
      "Requirement already satisfied, skipping upgrade: tqdm>=4.43.0 in /opt/conda/lib/python3.8/site-packages (from pandas-profiling) (4.50.2)\n",
      "Requirement already satisfied, skipping upgrade: attrs>=19.3.0 in /opt/conda/lib/python3.8/site-packages (from pandas-profiling) (20.2.0)\n",
      "Requirement already satisfied, skipping upgrade: certifi>=2017.4.17 in /opt/conda/lib/python3.8/site-packages (from requests>=2.23.0->pandas-profiling) (2020.6.20)\n",
      "Requirement already satisfied, skipping upgrade: urllib3!=1.25.0,!=1.25.1,<1.26,>=1.21.1 in /opt/conda/lib/python3.8/site-packages (from requests>=2.23.0->pandas-profiling) (1.25.11)\n",
      "Requirement already satisfied, skipping upgrade: idna<3,>=2.5 in /opt/conda/lib/python3.8/site-packages (from requests>=2.23.0->pandas-profiling) (2.10)\n",
      "Requirement already satisfied, skipping upgrade: chardet<4,>=3.0.2 in /opt/conda/lib/python3.8/site-packages (from requests>=2.23.0->pandas-profiling) (3.0.4)\n",
      "Requirement already satisfied, skipping upgrade: ipykernel>=4.5.1 in /opt/conda/lib/python3.8/site-packages (from ipywidgets>=7.5.1->pandas-profiling) (5.3.4)\n",
      "Requirement already satisfied, skipping upgrade: traitlets>=4.3.1 in /opt/conda/lib/python3.8/site-packages (from ipywidgets>=7.5.1->pandas-profiling) (5.0.5)\n",
      "Requirement already satisfied, skipping upgrade: nbformat>=4.2.0 in /opt/conda/lib/python3.8/site-packages (from ipywidgets>=7.5.1->pandas-profiling) (5.0.8)\n",
      "Requirement already satisfied, skipping upgrade: widgetsnbextension~=3.5.0 in /opt/conda/lib/python3.8/site-packages (from ipywidgets>=7.5.1->pandas-profiling) (3.5.1)\n",
      "Requirement already satisfied, skipping upgrade: ipython>=4.0.0; python_version >= \"3.3\" in /opt/conda/lib/python3.8/site-packages (from ipywidgets>=7.5.1->pandas-profiling) (7.18.1)\n",
      "Requirement already satisfied, skipping upgrade: MarkupSafe>=0.23 in /opt/conda/lib/python3.8/site-packages (from jinja2>=2.11.1->pandas-profiling) (1.1.1)\n",
      "Requirement already satisfied, skipping upgrade: numba>=0.38.1 in /opt/conda/lib/python3.8/site-packages (from phik>=0.9.10->pandas-profiling) (0.51.2)\n",
      "Requirement already satisfied, skipping upgrade: pyyaml in /opt/conda/lib/python3.8/site-packages (from confuse>=1.0.0->pandas-profiling) (5.3.1)\n",
      "Requirement already satisfied, skipping upgrade: python-dateutil>=2.7.3 in /opt/conda/lib/python3.8/site-packages (from pandas!=1.0.0,!=1.0.1,!=1.0.2,!=1.1.0,>=0.25.3->pandas-profiling) (2.8.1)\n",
      "Requirement already satisfied, skipping upgrade: pytz>=2017.2 in /opt/conda/lib/python3.8/site-packages (from pandas!=1.0.0,!=1.0.1,!=1.0.2,!=1.1.0,>=0.25.3->pandas-profiling) (2020.1)\n",
      "Requirement already satisfied, skipping upgrade: networkx>=2.4 in /opt/conda/lib/python3.8/site-packages (from visions[type_image_path]==0.5.0->pandas-profiling) (2.5)\n",
      "Collecting imagehash; extra == \"type_image_path\"\n",
      "  Downloading ImageHash-4.2.0-py2.py3-none-any.whl (295 kB)\n",
      "\u001b[K     |████████████████████████████████| 295 kB 31.9 MB/s eta 0:00:01\n",
      "\u001b[?25hRequirement already satisfied, skipping upgrade: Pillow; extra == \"type_image_path\" in /opt/conda/lib/python3.8/site-packages (from visions[type_image_path]==0.5.0->pandas-profiling) (8.0.0)\n",
      "Requirement already satisfied, skipping upgrade: cycler>=0.10 in /opt/conda/lib/python3.8/site-packages (from matplotlib>=3.2.0->pandas-profiling) (0.10.0)\n",
      "Requirement already satisfied, skipping upgrade: kiwisolver>=1.0.1 in /opt/conda/lib/python3.8/site-packages (from matplotlib>=3.2.0->pandas-profiling) (1.2.0)\n",
      "Requirement already satisfied, skipping upgrade: pyparsing!=2.0.4,!=2.1.2,!=2.1.6,>=2.0.3 in /opt/conda/lib/python3.8/site-packages (from matplotlib>=3.2.0->pandas-profiling) (2.4.7)\n",
      "Requirement already satisfied, skipping upgrade: tornado>=4.2 in /opt/conda/lib/python3.8/site-packages (from ipykernel>=4.5.1->ipywidgets>=7.5.1->pandas-profiling) (6.0.4)\n",
      "Requirement already satisfied, skipping upgrade: jupyter-client in /opt/conda/lib/python3.8/site-packages (from ipykernel>=4.5.1->ipywidgets>=7.5.1->pandas-profiling) (6.1.7)\n",
      "Requirement already satisfied, skipping upgrade: ipython-genutils in /opt/conda/lib/python3.8/site-packages (from traitlets>=4.3.1->ipywidgets>=7.5.1->pandas-profiling) (0.2.0)\n",
      "Requirement already satisfied, skipping upgrade: jsonschema!=2.5.0,>=2.4 in /opt/conda/lib/python3.8/site-packages (from nbformat>=4.2.0->ipywidgets>=7.5.1->pandas-profiling) (3.2.0)\n",
      "Requirement already satisfied, skipping upgrade: jupyter-core in /opt/conda/lib/python3.8/site-packages (from nbformat>=4.2.0->ipywidgets>=7.5.1->pandas-profiling) (4.6.3)\n",
      "Requirement already satisfied, skipping upgrade: notebook>=4.4.1 in /opt/conda/lib/python3.8/site-packages (from widgetsnbextension~=3.5.0->ipywidgets>=7.5.1->pandas-profiling) (6.1.4)\n",
      "Requirement already satisfied, skipping upgrade: backcall in /opt/conda/lib/python3.8/site-packages (from ipython>=4.0.0; python_version >= \"3.3\"->ipywidgets>=7.5.1->pandas-profiling) (0.2.0)\n",
      "Requirement already satisfied, skipping upgrade: pygments in /opt/conda/lib/python3.8/site-packages (from ipython>=4.0.0; python_version >= \"3.3\"->ipywidgets>=7.5.1->pandas-profiling) (2.7.1)\n",
      "Requirement already satisfied, skipping upgrade: decorator in /opt/conda/lib/python3.8/site-packages (from ipython>=4.0.0; python_version >= \"3.3\"->ipywidgets>=7.5.1->pandas-profiling) (4.4.2)\n",
      "Requirement already satisfied, skipping upgrade: setuptools>=18.5 in /opt/conda/lib/python3.8/site-packages (from ipython>=4.0.0; python_version >= \"3.3\"->ipywidgets>=7.5.1->pandas-profiling) (49.6.0.post20201009)\n",
      "Requirement already satisfied, skipping upgrade: pickleshare in /opt/conda/lib/python3.8/site-packages (from ipython>=4.0.0; python_version >= \"3.3\"->ipywidgets>=7.5.1->pandas-profiling) (0.7.5)\n",
      "Requirement already satisfied, skipping upgrade: pexpect>4.3; sys_platform != \"win32\" in /opt/conda/lib/python3.8/site-packages (from ipython>=4.0.0; python_version >= \"3.3\"->ipywidgets>=7.5.1->pandas-profiling) (4.8.0)\n",
      "Requirement already satisfied, skipping upgrade: prompt-toolkit!=3.0.0,!=3.0.1,<3.1.0,>=2.0.0 in /opt/conda/lib/python3.8/site-packages (from ipython>=4.0.0; python_version >= \"3.3\"->ipywidgets>=7.5.1->pandas-profiling) (3.0.8)\n",
      "Requirement already satisfied, skipping upgrade: jedi>=0.10 in /opt/conda/lib/python3.8/site-packages (from ipython>=4.0.0; python_version >= \"3.3\"->ipywidgets>=7.5.1->pandas-profiling) (0.17.2)\n",
      "Requirement already satisfied, skipping upgrade: llvmlite<0.35,>=0.34.0.dev0 in /opt/conda/lib/python3.8/site-packages (from numba>=0.38.1->phik>=0.9.10->pandas-profiling) (0.34.0)\n",
      "Requirement already satisfied, skipping upgrade: six>=1.5 in /opt/conda/lib/python3.8/site-packages (from python-dateutil>=2.7.3->pandas!=1.0.0,!=1.0.1,!=1.0.2,!=1.1.0,>=0.25.3->pandas-profiling) (1.15.0)\n",
      "Requirement already satisfied, skipping upgrade: PyWavelets in /opt/conda/lib/python3.8/site-packages (from imagehash; extra == \"type_image_path\"->visions[type_image_path]==0.5.0->pandas-profiling) (1.1.1)\n",
      "Requirement already satisfied, skipping upgrade: pyzmq>=13 in /opt/conda/lib/python3.8/site-packages (from jupyter-client->ipykernel>=4.5.1->ipywidgets>=7.5.1->pandas-profiling) (19.0.2)\n",
      "Requirement already satisfied, skipping upgrade: pyrsistent>=0.14.0 in /opt/conda/lib/python3.8/site-packages (from jsonschema!=2.5.0,>=2.4->nbformat>=4.2.0->ipywidgets>=7.5.1->pandas-profiling) (0.17.3)\n",
      "Requirement already satisfied, skipping upgrade: terminado>=0.8.3 in /opt/conda/lib/python3.8/site-packages (from notebook>=4.4.1->widgetsnbextension~=3.5.0->ipywidgets>=7.5.1->pandas-profiling) (0.9.1)\n",
      "Requirement already satisfied, skipping upgrade: Send2Trash in /opt/conda/lib/python3.8/site-packages (from notebook>=4.4.1->widgetsnbextension~=3.5.0->ipywidgets>=7.5.1->pandas-profiling) (1.5.0)\n",
      "Requirement already satisfied, skipping upgrade: nbconvert in /opt/conda/lib/python3.8/site-packages (from notebook>=4.4.1->widgetsnbextension~=3.5.0->ipywidgets>=7.5.1->pandas-profiling) (6.0.7)\n"
     ]
    },
    {
     "name": "stdout",
     "output_type": "stream",
     "text": [
      "Requirement already satisfied, skipping upgrade: prometheus-client in /opt/conda/lib/python3.8/site-packages (from notebook>=4.4.1->widgetsnbextension~=3.5.0->ipywidgets>=7.5.1->pandas-profiling) (0.8.0)\n",
      "Requirement already satisfied, skipping upgrade: argon2-cffi in /opt/conda/lib/python3.8/site-packages (from notebook>=4.4.1->widgetsnbextension~=3.5.0->ipywidgets>=7.5.1->pandas-profiling) (20.1.0)\n",
      "Requirement already satisfied, skipping upgrade: ptyprocess>=0.5 in /opt/conda/lib/python3.8/site-packages (from pexpect>4.3; sys_platform != \"win32\"->ipython>=4.0.0; python_version >= \"3.3\"->ipywidgets>=7.5.1->pandas-profiling) (0.6.0)\n",
      "Requirement already satisfied, skipping upgrade: wcwidth in /opt/conda/lib/python3.8/site-packages (from prompt-toolkit!=3.0.0,!=3.0.1,<3.1.0,>=2.0.0->ipython>=4.0.0; python_version >= \"3.3\"->ipywidgets>=7.5.1->pandas-profiling) (0.2.5)\n",
      "Requirement already satisfied, skipping upgrade: parso<0.8.0,>=0.7.0 in /opt/conda/lib/python3.8/site-packages (from jedi>=0.10->ipython>=4.0.0; python_version >= \"3.3\"->ipywidgets>=7.5.1->pandas-profiling) (0.7.1)\n",
      "Requirement already satisfied, skipping upgrade: testpath in /opt/conda/lib/python3.8/site-packages (from nbconvert->notebook>=4.4.1->widgetsnbextension~=3.5.0->ipywidgets>=7.5.1->pandas-profiling) (0.4.4)\n",
      "Requirement already satisfied, skipping upgrade: bleach in /opt/conda/lib/python3.8/site-packages (from nbconvert->notebook>=4.4.1->widgetsnbextension~=3.5.0->ipywidgets>=7.5.1->pandas-profiling) (3.2.1)\n",
      "Requirement already satisfied, skipping upgrade: pandocfilters>=1.4.1 in /opt/conda/lib/python3.8/site-packages (from nbconvert->notebook>=4.4.1->widgetsnbextension~=3.5.0->ipywidgets>=7.5.1->pandas-profiling) (1.4.2)\n",
      "Requirement already satisfied, skipping upgrade: jupyterlab-pygments in /opt/conda/lib/python3.8/site-packages (from nbconvert->notebook>=4.4.1->widgetsnbextension~=3.5.0->ipywidgets>=7.5.1->pandas-profiling) (0.1.2)\n",
      "Requirement already satisfied, skipping upgrade: mistune<2,>=0.8.1 in /opt/conda/lib/python3.8/site-packages (from nbconvert->notebook>=4.4.1->widgetsnbextension~=3.5.0->ipywidgets>=7.5.1->pandas-profiling) (0.8.4)\n",
      "Requirement already satisfied, skipping upgrade: entrypoints>=0.2.2 in /opt/conda/lib/python3.8/site-packages (from nbconvert->notebook>=4.4.1->widgetsnbextension~=3.5.0->ipywidgets>=7.5.1->pandas-profiling) (0.3)\n",
      "Requirement already satisfied, skipping upgrade: nbclient<0.6.0,>=0.5.0 in /opt/conda/lib/python3.8/site-packages (from nbconvert->notebook>=4.4.1->widgetsnbextension~=3.5.0->ipywidgets>=7.5.1->pandas-profiling) (0.5.1)\n",
      "Requirement already satisfied, skipping upgrade: defusedxml in /opt/conda/lib/python3.8/site-packages (from nbconvert->notebook>=4.4.1->widgetsnbextension~=3.5.0->ipywidgets>=7.5.1->pandas-profiling) (0.6.0)\n",
      "Requirement already satisfied, skipping upgrade: cffi>=1.0.0 in /opt/conda/lib/python3.8/site-packages (from argon2-cffi->notebook>=4.4.1->widgetsnbextension~=3.5.0->ipywidgets>=7.5.1->pandas-profiling) (1.14.3)\n",
      "Requirement already satisfied, skipping upgrade: webencodings in /opt/conda/lib/python3.8/site-packages (from bleach->nbconvert->notebook>=4.4.1->widgetsnbextension~=3.5.0->ipywidgets>=7.5.1->pandas-profiling) (0.5.1)\n",
      "Requirement already satisfied, skipping upgrade: packaging in /opt/conda/lib/python3.8/site-packages (from bleach->nbconvert->notebook>=4.4.1->widgetsnbextension~=3.5.0->ipywidgets>=7.5.1->pandas-profiling) (20.4)\n",
      "Requirement already satisfied, skipping upgrade: nest-asyncio in /opt/conda/lib/python3.8/site-packages (from nbclient<0.6.0,>=0.5.0->nbconvert->notebook>=4.4.1->widgetsnbextension~=3.5.0->ipywidgets>=7.5.1->pandas-profiling) (1.4.1)\n",
      "Requirement already satisfied, skipping upgrade: async-generator in /opt/conda/lib/python3.8/site-packages (from nbclient<0.6.0,>=0.5.0->nbconvert->notebook>=4.4.1->widgetsnbextension~=3.5.0->ipywidgets>=7.5.1->pandas-profiling) (1.10)\n",
      "Requirement already satisfied, skipping upgrade: pycparser in /opt/conda/lib/python3.8/site-packages (from cffi>=1.0.0->argon2-cffi->notebook>=4.4.1->widgetsnbextension~=3.5.0->ipywidgets>=7.5.1->pandas-profiling) (2.20)\n",
      "Building wheels for collected packages: htmlmin\n",
      "  Building wheel for htmlmin (setup.py) ... \u001b[?25ldone\n",
      "\u001b[?25h  Created wheel for htmlmin: filename=htmlmin-0.1.12-py3-none-any.whl size=27084 sha256=e291ef980b8330369078577910d39922633592615e7431e0c5c8dd1ca31b47cb\n",
      "  Stored in directory: /home/jovyan/.cache/pip/wheels/23/14/6e/4be5bfeeb027f4939a01764b48edd5996acf574b0913fe5243\n",
      "Successfully built htmlmin\n",
      "Installing collected packages: phik, confuse, tangled-up-in-unicode, imagehash, visions, htmlmin, missingno, pandas-profiling\n",
      "Note: you may need to restart the kernel to use updated packages.\n"
     ]
    }
   ],
   "source": [
    "pip install -U pandas-profiling"
   ]
  },
  {
   "cell_type": "code",
   "execution_count": 8,
   "metadata": {},
   "outputs": [
    {
     "name": "stdout",
     "output_type": "stream",
     "text": [
      "<built-in function listdir>\n"
     ]
    }
   ],
   "source": [
    "import os\n",
    "print(os.listdir)"
   ]
  },
  {
   "cell_type": "code",
   "execution_count": 10,
   "metadata": {},
   "outputs": [],
   "source": [
    "dataset =pd.read_csv(\"sales_data_sample.csv\",encoding='unicode_escape')"
   ]
  },
  {
   "cell_type": "code",
   "execution_count": 11,
   "metadata": {},
   "outputs": [
    {
     "data": {
      "text/html": [
       "<div>\n",
       "<style scoped>\n",
       "    .dataframe tbody tr th:only-of-type {\n",
       "        vertical-align: middle;\n",
       "    }\n",
       "\n",
       "    .dataframe tbody tr th {\n",
       "        vertical-align: top;\n",
       "    }\n",
       "\n",
       "    .dataframe thead th {\n",
       "        text-align: right;\n",
       "    }\n",
       "</style>\n",
       "<table border=\"1\" class=\"dataframe\">\n",
       "  <thead>\n",
       "    <tr style=\"text-align: right;\">\n",
       "      <th></th>\n",
       "      <th>ORDERNUMBER</th>\n",
       "      <th>QUANTITYORDERED</th>\n",
       "      <th>PRICEEACH</th>\n",
       "      <th>ORDERLINENUMBER</th>\n",
       "      <th>SALES</th>\n",
       "      <th>QTR_ID</th>\n",
       "      <th>MONTH_ID</th>\n",
       "      <th>YEAR_ID</th>\n",
       "      <th>MSRP</th>\n",
       "    </tr>\n",
       "  </thead>\n",
       "  <tbody>\n",
       "    <tr>\n",
       "      <th>count</th>\n",
       "      <td>2823.000000</td>\n",
       "      <td>2823.000000</td>\n",
       "      <td>2823.000000</td>\n",
       "      <td>2823.000000</td>\n",
       "      <td>2823.000000</td>\n",
       "      <td>2823.000000</td>\n",
       "      <td>2823.000000</td>\n",
       "      <td>2823.00000</td>\n",
       "      <td>2823.000000</td>\n",
       "    </tr>\n",
       "    <tr>\n",
       "      <th>mean</th>\n",
       "      <td>10258.725115</td>\n",
       "      <td>35.092809</td>\n",
       "      <td>83.658544</td>\n",
       "      <td>6.466171</td>\n",
       "      <td>3553.889072</td>\n",
       "      <td>2.717676</td>\n",
       "      <td>7.092455</td>\n",
       "      <td>2003.81509</td>\n",
       "      <td>100.715551</td>\n",
       "    </tr>\n",
       "    <tr>\n",
       "      <th>std</th>\n",
       "      <td>92.085478</td>\n",
       "      <td>9.741443</td>\n",
       "      <td>20.174277</td>\n",
       "      <td>4.225841</td>\n",
       "      <td>1841.865106</td>\n",
       "      <td>1.203878</td>\n",
       "      <td>3.656633</td>\n",
       "      <td>0.69967</td>\n",
       "      <td>40.187912</td>\n",
       "    </tr>\n",
       "    <tr>\n",
       "      <th>min</th>\n",
       "      <td>10100.000000</td>\n",
       "      <td>6.000000</td>\n",
       "      <td>26.880000</td>\n",
       "      <td>1.000000</td>\n",
       "      <td>482.130000</td>\n",
       "      <td>1.000000</td>\n",
       "      <td>1.000000</td>\n",
       "      <td>2003.00000</td>\n",
       "      <td>33.000000</td>\n",
       "    </tr>\n",
       "    <tr>\n",
       "      <th>25%</th>\n",
       "      <td>10180.000000</td>\n",
       "      <td>27.000000</td>\n",
       "      <td>68.860000</td>\n",
       "      <td>3.000000</td>\n",
       "      <td>2203.430000</td>\n",
       "      <td>2.000000</td>\n",
       "      <td>4.000000</td>\n",
       "      <td>2003.00000</td>\n",
       "      <td>68.000000</td>\n",
       "    </tr>\n",
       "    <tr>\n",
       "      <th>50%</th>\n",
       "      <td>10262.000000</td>\n",
       "      <td>35.000000</td>\n",
       "      <td>95.700000</td>\n",
       "      <td>6.000000</td>\n",
       "      <td>3184.800000</td>\n",
       "      <td>3.000000</td>\n",
       "      <td>8.000000</td>\n",
       "      <td>2004.00000</td>\n",
       "      <td>99.000000</td>\n",
       "    </tr>\n",
       "    <tr>\n",
       "      <th>75%</th>\n",
       "      <td>10333.500000</td>\n",
       "      <td>43.000000</td>\n",
       "      <td>100.000000</td>\n",
       "      <td>9.000000</td>\n",
       "      <td>4508.000000</td>\n",
       "      <td>4.000000</td>\n",
       "      <td>11.000000</td>\n",
       "      <td>2004.00000</td>\n",
       "      <td>124.000000</td>\n",
       "    </tr>\n",
       "    <tr>\n",
       "      <th>max</th>\n",
       "      <td>10425.000000</td>\n",
       "      <td>97.000000</td>\n",
       "      <td>100.000000</td>\n",
       "      <td>18.000000</td>\n",
       "      <td>14082.800000</td>\n",
       "      <td>4.000000</td>\n",
       "      <td>12.000000</td>\n",
       "      <td>2005.00000</td>\n",
       "      <td>214.000000</td>\n",
       "    </tr>\n",
       "  </tbody>\n",
       "</table>\n",
       "</div>"
      ],
      "text/plain": [
       "        ORDERNUMBER  QUANTITYORDERED    PRICEEACH  ORDERLINENUMBER  \\\n",
       "count   2823.000000      2823.000000  2823.000000      2823.000000   \n",
       "mean   10258.725115        35.092809    83.658544         6.466171   \n",
       "std       92.085478         9.741443    20.174277         4.225841   \n",
       "min    10100.000000         6.000000    26.880000         1.000000   \n",
       "25%    10180.000000        27.000000    68.860000         3.000000   \n",
       "50%    10262.000000        35.000000    95.700000         6.000000   \n",
       "75%    10333.500000        43.000000   100.000000         9.000000   \n",
       "max    10425.000000        97.000000   100.000000        18.000000   \n",
       "\n",
       "              SALES       QTR_ID     MONTH_ID     YEAR_ID         MSRP  \n",
       "count   2823.000000  2823.000000  2823.000000  2823.00000  2823.000000  \n",
       "mean    3553.889072     2.717676     7.092455  2003.81509   100.715551  \n",
       "std     1841.865106     1.203878     3.656633     0.69967    40.187912  \n",
       "min      482.130000     1.000000     1.000000  2003.00000    33.000000  \n",
       "25%     2203.430000     2.000000     4.000000  2003.00000    68.000000  \n",
       "50%     3184.800000     3.000000     8.000000  2004.00000    99.000000  \n",
       "75%     4508.000000     4.000000    11.000000  2004.00000   124.000000  \n",
       "max    14082.800000     4.000000    12.000000  2005.00000   214.000000  "
      ]
     },
     "execution_count": 11,
     "metadata": {},
     "output_type": "execute_result"
    }
   ],
   "source": [
    "dataset.describe()"
   ]
  },
  {
   "cell_type": "code",
   "execution_count": 14,
   "metadata": {},
   "outputs": [
    {
     "data": {
      "text/plain": [
       "(2823, 25)"
      ]
     },
     "execution_count": 14,
     "metadata": {},
     "output_type": "execute_result"
    }
   ],
   "source": [
    "dataset.shape"
   ]
  },
  {
   "cell_type": "code",
   "execution_count": 15,
   "metadata": {},
   "outputs": [
    {
     "name": "stdout",
     "output_type": "stream",
     "text": [
      "<class 'pandas.core.frame.DataFrame'>\n",
      "RangeIndex: 2823 entries, 0 to 2822\n",
      "Data columns (total 25 columns):\n",
      " #   Column            Non-Null Count  Dtype  \n",
      "---  ------            --------------  -----  \n",
      " 0   ORDERNUMBER       2823 non-null   int64  \n",
      " 1   QUANTITYORDERED   2823 non-null   int64  \n",
      " 2   PRICEEACH         2823 non-null   float64\n",
      " 3   ORDERLINENUMBER   2823 non-null   int64  \n",
      " 4   SALES             2823 non-null   float64\n",
      " 5   ORDERDATE         2823 non-null   object \n",
      " 6   STATUS            2823 non-null   object \n",
      " 7   QTR_ID            2823 non-null   int64  \n",
      " 8   MONTH_ID          2823 non-null   int64  \n",
      " 9   YEAR_ID           2823 non-null   int64  \n",
      " 10  PRODUCTLINE       2823 non-null   object \n",
      " 11  MSRP              2823 non-null   int64  \n",
      " 12  PRODUCTCODE       2823 non-null   object \n",
      " 13  CUSTOMERNAME      2823 non-null   object \n",
      " 14  PHONE             2823 non-null   object \n",
      " 15  ADDRESSLINE1      2823 non-null   object \n",
      " 16  ADDRESSLINE2      302 non-null    object \n",
      " 17  CITY              2823 non-null   object \n",
      " 18  STATE             1337 non-null   object \n",
      " 19  POSTALCODE        2747 non-null   object \n",
      " 20  COUNTRY           2823 non-null   object \n",
      " 21  TERRITORY         1749 non-null   object \n",
      " 22  CONTACTLASTNAME   2823 non-null   object \n",
      " 23  CONTACTFIRSTNAME  2823 non-null   object \n",
      " 24  DEALSIZE          2823 non-null   object \n",
      "dtypes: float64(2), int64(7), object(16)\n",
      "memory usage: 551.5+ KB\n"
     ]
    }
   ],
   "source": [
    "dataset.info()"
   ]
  },
  {
   "cell_type": "markdown",
   "metadata": {},
   "source": [
    "# Data Insights "
   ]
  },
  {
   "cell_type": "code",
   "execution_count": 16,
   "metadata": {},
   "outputs": [
    {
     "data": {
      "image/png": "[encoded data removed]",
      "text/plain": [
       "<Figure size 1296x1152 with 16 Axes>"
      ]
     },
     "metadata": {
      "needs_background": "light"
     },
     "output_type": "display_data"
    }
   ],
   "source": [
    "# Let's plot the data to get more insight.\n",
    "\n",
    "plt.rcParams['figure.figsize'] = [18, 16]\n",
    "dataset.plot(kind=\"box\",subplots=True,layout=(4,4),sharex=False,sharey=False)\n",
    "plt.show()\n"
   ]
  },
  {
   "cell_type": "code",
   "execution_count": 17,
   "metadata": {},
   "outputs": [
    {
     "data": {
      "image/png": "[encoded data removed]",
      "text/plain": [
       "<Figure size 1296x1152 with 16 Axes>"
      ]
     },
     "metadata": {
      "needs_background": "light"
     },
     "output_type": "display_data"
    }
   ],
   "source": [
    "plt.rcParams['figure.figsize'] = [18, 16]\n",
    "data.plot(kind=\"density\",subplots=True,layout=(4,4),sharex=False,sharey=False)\n",
    "plt.show()"
   ]
  },
  {
   "cell_type": "markdown",
   "metadata": {},
   "source": [
    "# Data Exploration"
   ]
  },
  {
   "cell_type": "code",
   "execution_count": 18,
   "metadata": {},
   "outputs": [
    {
     "data": {
      "text/plain": [
       "ORDERNUMBER            0\n",
       "QUANTITYORDERED        0\n",
       "PRICEEACH              0\n",
       "ORDERLINENUMBER        0\n",
       "SALES                  0\n",
       "ORDERDATE              0\n",
       "STATUS                 0\n",
       "QTR_ID                 0\n",
       "MONTH_ID               0\n",
       "YEAR_ID                0\n",
       "PRODUCTLINE            0\n",
       "MSRP                   0\n",
       "PRODUCTCODE            0\n",
       "CUSTOMERNAME           0\n",
       "PHONE                  0\n",
       "ADDRESSLINE1           0\n",
       "ADDRESSLINE2        2521\n",
       "CITY                   0\n",
       "STATE               1486\n",
       "POSTALCODE            76\n",
       "COUNTRY                0\n",
       "TERRITORY           1074\n",
       "CONTACTLASTNAME        0\n",
       "CONTACTFIRSTNAME       0\n",
       "DEALSIZE               0\n",
       "dtype: int64"
      ]
     },
     "execution_count": 18,
     "metadata": {},
     "output_type": "execute_result"
    }
   ],
   "source": [
    "dataset.isnull().sum()"
   ]
  },
  {
   "cell_type": "markdown",
   "metadata": {},
   "source": [
    "# As we can see from the above results there are three columns which have null values.\n",
    "# So we drop this columns - AddressLine2, State, Territory,Postal code   "
   ]
  },
  {
   "cell_type": "code",
   "execution_count": 27,
   "metadata": {},
   "outputs": [],
   "source": [
    "# Dropping Unnecessary columns \n",
    "temp=['STATE','POSTALCODE', 'TERRITORY']\n",
    "dataset.drop(temp,axis=1,inplace=True)"
   ]
  },
  {
   "cell_type": "code",
   "execution_count": 29,
   "metadata": {},
   "outputs": [
    {
     "name": "stdout",
     "output_type": "stream",
     "text": [
      "<class 'pandas.core.frame.DataFrame'>\n",
      "RangeIndex: 2823 entries, 0 to 2822\n",
      "Data columns (total 17 columns):\n",
      " #   Column           Non-Null Count  Dtype  \n",
      "---  ------           --------------  -----  \n",
      " 0   ORDERNUMBER      2823 non-null   int64  \n",
      " 1   QUANTITYORDERED  2823 non-null   int64  \n",
      " 2   PRICEEACH        2823 non-null   float64\n",
      " 3   ORDERLINENUMBER  2823 non-null   int64  \n",
      " 4   SALES            2823 non-null   float64\n",
      " 5   ORDERDATE        2823 non-null   object \n",
      " 6   STATUS           2823 non-null   object \n",
      " 7   QTR_ID           2823 non-null   int64  \n",
      " 8   MONTH_ID         2823 non-null   int64  \n",
      " 9   YEAR_ID          2823 non-null   int64  \n",
      " 10  PRODUCTLINE      2823 non-null   object \n",
      " 11  MSRP             2823 non-null   int64  \n",
      " 12  PRODUCTCODE      2823 non-null   object \n",
      " 13  CUSTOMERNAME     2823 non-null   object \n",
      " 14  ADDRESSLINE1     2823 non-null   object \n",
      " 15  COUNTRY          2823 non-null   object \n",
      " 16  DEALSIZE         2823 non-null   object \n",
      "dtypes: float64(2), int64(7), object(8)\n",
      "memory usage: 375.1+ KB\n"
     ]
    }
   ],
   "source": [
    "dataset.info()"
   ]
  },
  {
   "cell_type": "markdown",
   "metadata": {},
   "source": [
    "# To check the Status of the product"
   ]
  },
  {
   "cell_type": "code",
   "execution_count": 30,
   "metadata": {},
   "outputs": [
    {
     "data": {
      "text/plain": [
       "Shipped       2617\n",
       "Cancelled       60\n",
       "Resolved        47\n",
       "On Hold         44\n",
       "In Process      41\n",
       "Disputed        14\n",
       "Name: STATUS, dtype: int64"
      ]
     },
     "execution_count": 30,
     "metadata": {},
     "output_type": "execute_result"
    }
   ],
   "source": [
    "dataset['STATUS'].value_counts()"
   ]
  },
  {
   "cell_type": "code",
   "execution_count": 33,
   "metadata": {},
   "outputs": [
    {
     "data": {
      "image/png": "[encoded data removed]",
      "text/plain": [
       "<Figure size 1296x1152 with 1 Axes>"
      ]
     },
     "metadata": {
      "needs_background": "light"
     },
     "output_type": "display_data"
    }
   ],
   "source": [
    "sns.countplot(y='STATUS',data=dataset,hue='YEAR_ID');"
   ]
  },
  {
   "cell_type": "code",
   "execution_count": 35,
   "metadata": {},
   "outputs": [
    {
     "data": {
      "image/png": "[encoded data removed]",
      "text/plain": [
       "<Figure size 1296x1152 with 1 Axes>"
      ]
     },
     "metadata": {
      "needs_background": "light"
     },
     "output_type": "display_data"
    }
   ],
   "source": [
    "sns.countplot(y='STATUS',data=dataset,hue='QTR_ID');"
   ]
  },
  {
   "cell_type": "markdown",
   "metadata": {},
   "source": [
    "# Comparing sales for each year(Quaterwise)"
   ]
  },
  {
   "cell_type": "code",
   "execution_count": 36,
   "metadata": {},
   "outputs": [
    {
     "name": "stdout",
     "output_type": "stream",
     "text": [
      "<class 'pandas.core.frame.DataFrame'>\n",
      "MultiIndex: 10 entries, (2003, 1) to (2005, 2)\n",
      "Data columns (total 1 columns):\n",
      " #   Column  Non-Null Count  Dtype  \n",
      "---  ------  --------------  -----  \n",
      " 0   SALES   10 non-null     float64\n",
      "dtypes: float64(1)\n",
      "memory usage: 267.0 bytes\n",
      "None\n"
     ]
    }
   ],
   "source": [
    "data1=dataset.groupby(['YEAR_ID','QTR_ID']).agg({'SALES': lambda x: x.sum() })\n",
    "print(data1.info())\n"
   ]
  },
  {
   "cell_type": "code",
   "execution_count": 39,
   "metadata": {},
   "outputs": [
    {
     "data": {
      "text/html": [
       "<div>\n",
       "<style scoped>\n",
       "    .dataframe tbody tr th:only-of-type {\n",
       "        vertical-align: middle;\n",
       "    }\n",
       "\n",
       "    .dataframe tbody tr th {\n",
       "        vertical-align: top;\n",
       "    }\n",
       "\n",
       "    .dataframe thead th {\n",
       "        text-align: right;\n",
       "    }\n",
       "</style>\n",
       "<table border=\"1\" class=\"dataframe\">\n",
       "  <thead>\n",
       "    <tr style=\"text-align: right;\">\n",
       "      <th></th>\n",
       "      <th></th>\n",
       "      <th>SALES</th>\n",
       "    </tr>\n",
       "    <tr>\n",
       "      <th>YEAR_ID</th>\n",
       "      <th>QTR_ID</th>\n",
       "      <th></th>\n",
       "    </tr>\n",
       "  </thead>\n",
       "  <tbody>\n",
       "    <tr>\n",
       "      <th rowspan=\"4\" valign=\"top\">2003</th>\n",
       "      <th>1</th>\n",
       "      <td>445094.69</td>\n",
       "    </tr>\n",
       "    <tr>\n",
       "      <th>2</th>\n",
       "      <td>562365.22</td>\n",
       "    </tr>\n",
       "    <tr>\n",
       "      <th>3</th>\n",
       "      <td>649514.54</td>\n",
       "    </tr>\n",
       "    <tr>\n",
       "      <th>4</th>\n",
       "      <td>1860005.09</td>\n",
       "    </tr>\n",
       "    <tr>\n",
       "      <th rowspan=\"4\" valign=\"top\">2004</th>\n",
       "      <th>1</th>\n",
       "      <td>833730.68</td>\n",
       "    </tr>\n",
       "    <tr>\n",
       "      <th>2</th>\n",
       "      <td>766260.73</td>\n",
       "    </tr>\n",
       "    <tr>\n",
       "      <th>3</th>\n",
       "      <td>1109396.27</td>\n",
       "    </tr>\n",
       "    <tr>\n",
       "      <th>4</th>\n",
       "      <td>2014774.92</td>\n",
       "    </tr>\n",
       "    <tr>\n",
       "      <th rowspan=\"2\" valign=\"top\">2005</th>\n",
       "      <th>1</th>\n",
       "      <td>1071992.36</td>\n",
       "    </tr>\n",
       "    <tr>\n",
       "      <th>2</th>\n",
       "      <td>719494.35</td>\n",
       "    </tr>\n",
       "  </tbody>\n",
       "</table>\n",
       "</div>"
      ],
      "text/plain": [
       "                     SALES\n",
       "YEAR_ID QTR_ID            \n",
       "2003    1        445094.69\n",
       "        2        562365.22\n",
       "        3        649514.54\n",
       "        4       1860005.09\n",
       "2004    1        833730.68\n",
       "        2        766260.73\n",
       "        3       1109396.27\n",
       "        4       2014774.92\n",
       "2005    1       1071992.36\n",
       "        2        719494.35"
      ]
     },
     "execution_count": 39,
     "metadata": {},
     "output_type": "execute_result"
    }
   ],
   "source": [
    "data1.head(16)"
   ]
  },
  {
   "cell_type": "markdown",
   "metadata": {},
   "source": [
    "# How many quantity ordered of each product and compare to price\n",
    "# First of all sum the number of quantity ordered for each product"
   ]
  },
  {
   "cell_type": "code",
   "execution_count": 43,
   "metadata": {},
   "outputs": [
    {
     "data": {
      "text/html": [
       "<div>\n",
       "<style scoped>\n",
       "    .dataframe tbody tr th:only-of-type {\n",
       "        vertical-align: middle;\n",
       "    }\n",
       "\n",
       "    .dataframe tbody tr th {\n",
       "        vertical-align: top;\n",
       "    }\n",
       "\n",
       "    .dataframe thead th {\n",
       "        text-align: right;\n",
       "    }\n",
       "</style>\n",
       "<table border=\"1\" class=\"dataframe\">\n",
       "  <thead>\n",
       "    <tr style=\"text-align: right;\">\n",
       "      <th></th>\n",
       "      <th>PRODUCTLINE</th>\n",
       "      <th>QUANTITYORDERED</th>\n",
       "    </tr>\n",
       "  </thead>\n",
       "  <tbody>\n",
       "    <tr>\n",
       "      <th>0</th>\n",
       "      <td>Classic Cars</td>\n",
       "      <td>33992</td>\n",
       "    </tr>\n",
       "    <tr>\n",
       "      <th>1</th>\n",
       "      <td>Motorcycles</td>\n",
       "      <td>11663</td>\n",
       "    </tr>\n",
       "    <tr>\n",
       "      <th>2</th>\n",
       "      <td>Planes</td>\n",
       "      <td>10727</td>\n",
       "    </tr>\n",
       "    <tr>\n",
       "      <th>3</th>\n",
       "      <td>Ships</td>\n",
       "      <td>8127</td>\n",
       "    </tr>\n",
       "    <tr>\n",
       "      <th>4</th>\n",
       "      <td>Trains</td>\n",
       "      <td>2712</td>\n",
       "    </tr>\n",
       "    <tr>\n",
       "      <th>5</th>\n",
       "      <td>Trucks and Buses</td>\n",
       "      <td>10777</td>\n",
       "    </tr>\n",
       "    <tr>\n",
       "      <th>6</th>\n",
       "      <td>Vintage Cars</td>\n",
       "      <td>21069</td>\n",
       "    </tr>\n",
       "  </tbody>\n",
       "</table>\n",
       "</div>"
      ],
      "text/plain": [
       "        PRODUCTLINE  QUANTITYORDERED\n",
       "0      Classic Cars            33992\n",
       "1       Motorcycles            11663\n",
       "2            Planes            10727\n",
       "3             Ships             8127\n",
       "4            Trains             2712\n",
       "5  Trucks and Buses            10777\n",
       "6      Vintage Cars            21069"
      ]
     },
     "execution_count": 43,
     "metadata": {},
     "output_type": "execute_result"
    }
   ],
   "source": [
    "compare= dataset.groupby(['PRODUCTLINE'])['QUANTITYORDERED'].sum().reset_index()\n",
    "compare"
   ]
  },
  {
   "cell_type": "markdown",
   "metadata": {},
   "source": [
    "# Compare Productline and mean price of each vehicle"
   ]
  },
  {
   "cell_type": "code",
   "execution_count": 44,
   "metadata": {},
   "outputs": [
    {
     "data": {
      "text/html": [
       "<div>\n",
       "<style scoped>\n",
       "    .dataframe tbody tr th:only-of-type {\n",
       "        vertical-align: middle;\n",
       "    }\n",
       "\n",
       "    .dataframe tbody tr th {\n",
       "        vertical-align: top;\n",
       "    }\n",
       "\n",
       "    .dataframe thead th {\n",
       "        text-align: right;\n",
       "    }\n",
       "</style>\n",
       "<table border=\"1\" class=\"dataframe\">\n",
       "  <thead>\n",
       "    <tr style=\"text-align: right;\">\n",
       "      <th></th>\n",
       "      <th>PRODUCTLINE</th>\n",
       "      <th>PRICEEACH</th>\n",
       "    </tr>\n",
       "  </thead>\n",
       "  <tbody>\n",
       "    <tr>\n",
       "      <th>0</th>\n",
       "      <td>Classic Cars</td>\n",
       "      <td>87.335781</td>\n",
       "    </tr>\n",
       "    <tr>\n",
       "      <th>1</th>\n",
       "      <td>Motorcycles</td>\n",
       "      <td>82.997553</td>\n",
       "    </tr>\n",
       "    <tr>\n",
       "      <th>2</th>\n",
       "      <td>Planes</td>\n",
       "      <td>81.740915</td>\n",
       "    </tr>\n",
       "    <tr>\n",
       "      <th>3</th>\n",
       "      <td>Ships</td>\n",
       "      <td>83.855470</td>\n",
       "    </tr>\n",
       "    <tr>\n",
       "      <th>4</th>\n",
       "      <td>Trains</td>\n",
       "      <td>75.654675</td>\n",
       "    </tr>\n",
       "    <tr>\n",
       "      <th>5</th>\n",
       "      <td>Trucks and Buses</td>\n",
       "      <td>87.527940</td>\n",
       "    </tr>\n",
       "    <tr>\n",
       "      <th>6</th>\n",
       "      <td>Vintage Cars</td>\n",
       "      <td>78.148204</td>\n",
       "    </tr>\n",
       "  </tbody>\n",
       "</table>\n",
       "</div>"
      ],
      "text/plain": [
       "        PRODUCTLINE  PRICEEACH\n",
       "0      Classic Cars  87.335781\n",
       "1       Motorcycles  82.997553\n",
       "2            Planes  81.740915\n",
       "3             Ships  83.855470\n",
       "4            Trains  75.654675\n",
       "5  Trucks and Buses  87.527940\n",
       "6      Vintage Cars  78.148204"
      ]
     },
     "execution_count": 44,
     "metadata": {},
     "output_type": "execute_result"
    }
   ],
   "source": [
    "compare1= dataset.groupby(['PRODUCTLINE'])['PRICEEACH'].mean().reset_index()\n",
    "compare1"
   ]
  },
  {
   "cell_type": "markdown",
   "metadata": {},
   "source": [
    "# Compare sales and quantity ordered of each product"
   ]
  },
  {
   "cell_type": "code",
   "execution_count": 46,
   "metadata": {},
   "outputs": [
    {
     "data": {
      "text/html": [
       "<div>\n",
       "<style scoped>\n",
       "    .dataframe tbody tr th:only-of-type {\n",
       "        vertical-align: middle;\n",
       "    }\n",
       "\n",
       "    .dataframe tbody tr th {\n",
       "        vertical-align: top;\n",
       "    }\n",
       "\n",
       "    .dataframe thead th {\n",
       "        text-align: right;\n",
       "    }\n",
       "</style>\n",
       "<table border=\"1\" class=\"dataframe\">\n",
       "  <thead>\n",
       "    <tr style=\"text-align: right;\">\n",
       "      <th></th>\n",
       "      <th>PRODUCTLINE</th>\n",
       "      <th>QUANTITYORDERED</th>\n",
       "      <th>SALES</th>\n",
       "    </tr>\n",
       "  </thead>\n",
       "  <tbody>\n",
       "    <tr>\n",
       "      <th>0</th>\n",
       "      <td>Classic Cars</td>\n",
       "      <td>33992</td>\n",
       "      <td>3919615.66</td>\n",
       "    </tr>\n",
       "    <tr>\n",
       "      <th>1</th>\n",
       "      <td>Motorcycles</td>\n",
       "      <td>11663</td>\n",
       "      <td>1166388.34</td>\n",
       "    </tr>\n",
       "    <tr>\n",
       "      <th>2</th>\n",
       "      <td>Planes</td>\n",
       "      <td>10727</td>\n",
       "      <td>975003.57</td>\n",
       "    </tr>\n",
       "    <tr>\n",
       "      <th>3</th>\n",
       "      <td>Ships</td>\n",
       "      <td>8127</td>\n",
       "      <td>714437.13</td>\n",
       "    </tr>\n",
       "    <tr>\n",
       "      <th>4</th>\n",
       "      <td>Trains</td>\n",
       "      <td>2712</td>\n",
       "      <td>226243.47</td>\n",
       "    </tr>\n",
       "    <tr>\n",
       "      <th>5</th>\n",
       "      <td>Trucks and Buses</td>\n",
       "      <td>10777</td>\n",
       "      <td>1127789.84</td>\n",
       "    </tr>\n",
       "    <tr>\n",
       "      <th>6</th>\n",
       "      <td>Vintage Cars</td>\n",
       "      <td>21069</td>\n",
       "      <td>1903150.84</td>\n",
       "    </tr>\n",
       "  </tbody>\n",
       "</table>\n",
       "</div>"
      ],
      "text/plain": [
       "        PRODUCTLINE  QUANTITYORDERED       SALES\n",
       "0      Classic Cars            33992  3919615.66\n",
       "1       Motorcycles            11663  1166388.34\n",
       "2            Planes            10727   975003.57\n",
       "3             Ships             8127   714437.13\n",
       "4            Trains             2712   226243.47\n",
       "5  Trucks and Buses            10777  1127789.84\n",
       "6      Vintage Cars            21069  1903150.84"
      ]
     },
     "execution_count": 46,
     "metadata": {},
     "output_type": "execute_result"
    }
   ],
   "source": [
    "compare3 = dataset.groupby(['PRODUCTLINE'])[['QUANTITYORDERED','SALES']].sum().reset_index()\n",
    "compare3"
   ]
  },
  {
   "cell_type": "markdown",
   "metadata": {},
   "source": [
    "# Calculating yearly sales values"
   ]
  },
  {
   "cell_type": "code",
   "execution_count": 47,
   "metadata": {},
   "outputs": [
    {
     "data": {
      "text/html": [
       "<div>\n",
       "<style scoped>\n",
       "    .dataframe tbody tr th:only-of-type {\n",
       "        vertical-align: middle;\n",
       "    }\n",
       "\n",
       "    .dataframe tbody tr th {\n",
       "        vertical-align: top;\n",
       "    }\n",
       "\n",
       "    .dataframe thead th {\n",
       "        text-align: right;\n",
       "    }\n",
       "</style>\n",
       "<table border=\"1\" class=\"dataframe\">\n",
       "  <thead>\n",
       "    <tr style=\"text-align: right;\">\n",
       "      <th></th>\n",
       "      <th>YEAR_ID</th>\n",
       "      <th>SALES</th>\n",
       "      <th>QUANTITYORDERED</th>\n",
       "    </tr>\n",
       "  </thead>\n",
       "  <tbody>\n",
       "    <tr>\n",
       "      <th>0</th>\n",
       "      <td>2003</td>\n",
       "      <td>3516979.54</td>\n",
       "      <td>34612</td>\n",
       "    </tr>\n",
       "    <tr>\n",
       "      <th>1</th>\n",
       "      <td>2004</td>\n",
       "      <td>4724162.60</td>\n",
       "      <td>46824</td>\n",
       "    </tr>\n",
       "    <tr>\n",
       "      <th>2</th>\n",
       "      <td>2005</td>\n",
       "      <td>1791486.71</td>\n",
       "      <td>17631</td>\n",
       "    </tr>\n",
       "  </tbody>\n",
       "</table>\n",
       "</div>"
      ],
      "text/plain": [
       "   YEAR_ID       SALES  QUANTITYORDERED\n",
       "0     2003  3516979.54            34612\n",
       "1     2004  4724162.60            46824\n",
       "2     2005  1791486.71            17631"
      ]
     },
     "execution_count": 47,
     "metadata": {},
     "output_type": "execute_result"
    }
   ],
   "source": [
    "compare2 = dataset.groupby(['YEAR_ID'])[['SALES', 'QUANTITYORDERED']].sum().reset_index()\n",
    "compare2.head()"
   ]
  },
  {
   "cell_type": "code",
   "execution_count": 48,
   "metadata": {},
   "outputs": [
    {
     "data": {
      "text/html": [
       "<div>\n",
       "<style scoped>\n",
       "    .dataframe tbody tr th:only-of-type {\n",
       "        vertical-align: middle;\n",
       "    }\n",
       "\n",
       "    .dataframe tbody tr th {\n",
       "        vertical-align: top;\n",
       "    }\n",
       "\n",
       "    .dataframe thead th {\n",
       "        text-align: right;\n",
       "    }\n",
       "</style>\n",
       "<table border=\"1\" class=\"dataframe\">\n",
       "  <thead>\n",
       "    <tr style=\"text-align: right;\">\n",
       "      <th></th>\n",
       "      <th>YEAR_ID</th>\n",
       "      <th>MONTH_ID</th>\n",
       "      <th>SALES</th>\n",
       "    </tr>\n",
       "  </thead>\n",
       "  <tbody>\n",
       "    <tr>\n",
       "      <th>0</th>\n",
       "      <td>2003</td>\n",
       "      <td>1</td>\n",
       "      <td>129753.60</td>\n",
       "    </tr>\n",
       "    <tr>\n",
       "      <th>1</th>\n",
       "      <td>2003</td>\n",
       "      <td>2</td>\n",
       "      <td>140836.19</td>\n",
       "    </tr>\n",
       "    <tr>\n",
       "      <th>2</th>\n",
       "      <td>2003</td>\n",
       "      <td>3</td>\n",
       "      <td>174504.90</td>\n",
       "    </tr>\n",
       "    <tr>\n",
       "      <th>3</th>\n",
       "      <td>2003</td>\n",
       "      <td>4</td>\n",
       "      <td>201609.55</td>\n",
       "    </tr>\n",
       "    <tr>\n",
       "      <th>4</th>\n",
       "      <td>2003</td>\n",
       "      <td>5</td>\n",
       "      <td>192673.11</td>\n",
       "    </tr>\n",
       "    <tr>\n",
       "      <th>5</th>\n",
       "      <td>2003</td>\n",
       "      <td>6</td>\n",
       "      <td>168082.56</td>\n",
       "    </tr>\n",
       "    <tr>\n",
       "      <th>6</th>\n",
       "      <td>2003</td>\n",
       "      <td>7</td>\n",
       "      <td>187731.88</td>\n",
       "    </tr>\n",
       "    <tr>\n",
       "      <th>7</th>\n",
       "      <td>2003</td>\n",
       "      <td>8</td>\n",
       "      <td>197809.30</td>\n",
       "    </tr>\n",
       "    <tr>\n",
       "      <th>8</th>\n",
       "      <td>2003</td>\n",
       "      <td>9</td>\n",
       "      <td>263973.36</td>\n",
       "    </tr>\n",
       "    <tr>\n",
       "      <th>9</th>\n",
       "      <td>2003</td>\n",
       "      <td>10</td>\n",
       "      <td>568290.97</td>\n",
       "    </tr>\n",
       "    <tr>\n",
       "      <th>10</th>\n",
       "      <td>2003</td>\n",
       "      <td>11</td>\n",
       "      <td>1029837.66</td>\n",
       "    </tr>\n",
       "    <tr>\n",
       "      <th>11</th>\n",
       "      <td>2003</td>\n",
       "      <td>12</td>\n",
       "      <td>261876.46</td>\n",
       "    </tr>\n",
       "    <tr>\n",
       "      <th>12</th>\n",
       "      <td>2004</td>\n",
       "      <td>1</td>\n",
       "      <td>316577.42</td>\n",
       "    </tr>\n",
       "    <tr>\n",
       "      <th>13</th>\n",
       "      <td>2004</td>\n",
       "      <td>2</td>\n",
       "      <td>311419.53</td>\n",
       "    </tr>\n",
       "    <tr>\n",
       "      <th>14</th>\n",
       "      <td>2004</td>\n",
       "      <td>3</td>\n",
       "      <td>205733.73</td>\n",
       "    </tr>\n",
       "  </tbody>\n",
       "</table>\n",
       "</div>"
      ],
      "text/plain": [
       "    YEAR_ID  MONTH_ID       SALES\n",
       "0      2003         1   129753.60\n",
       "1      2003         2   140836.19\n",
       "2      2003         3   174504.90\n",
       "3      2003         4   201609.55\n",
       "4      2003         5   192673.11\n",
       "5      2003         6   168082.56\n",
       "6      2003         7   187731.88\n",
       "7      2003         8   197809.30\n",
       "8      2003         9   263973.36\n",
       "9      2003        10   568290.97\n",
       "10     2003        11  1029837.66\n",
       "11     2003        12   261876.46\n",
       "12     2004         1   316577.42\n",
       "13     2004         2   311419.53\n",
       "14     2004         3   205733.73"
      ]
     },
     "execution_count": 48,
     "metadata": {},
     "output_type": "execute_result"
    }
   ],
   "source": [
    "monthly_sales = dataset.groupby(['YEAR_ID','MONTH_ID'])['SALES'].sum().reset_index()\n",
    "monthly_sales.head(15)"
   ]
  },
  {
   "cell_type": "code",
   "execution_count": 53,
   "metadata": {},
   "outputs": [
    {
     "name": "stdout",
     "output_type": "stream",
     "text": [
      "Collecting plotly\n",
      "  Downloading plotly-4.12.0-py2.py3-none-any.whl (13.1 MB)\n",
      "\u001b[K     |████████████████████████████████| 13.1 MB 4.1 MB/s eta 0:00:01\n",
      "\u001b[?25hCollecting retrying>=1.3.3\n",
      "  Downloading retrying-1.3.3.tar.gz (10 kB)\n",
      "Requirement already satisfied: six in /opt/conda/lib/python3.8/site-packages (from plotly) (1.15.0)\n",
      "Building wheels for collected packages: retrying\n",
      "  Building wheel for retrying (setup.py) ... \u001b[?25ldone\n",
      "\u001b[?25h  Created wheel for retrying: filename=retrying-1.3.3-py3-none-any.whl size=11429 sha256=ab669fbb8b37943b6bb0710771a2c521d6885d2447e42f3c187c3a8573de6246\n",
      "  Stored in directory: /home/jovyan/.cache/pip/wheels/c4/a7/48/0a434133f6d56e878ca511c0e6c38326907c0792f67b476e56\n",
      "Successfully built retrying\n",
      "Installing collected packages: retrying, plotly\n",
      "Successfully installed plotly-4.12.0 retrying-1.3.3\n",
      "Note: you may need to restart the kernel to use updated packages.\n"
     ]
    }
   ],
   "source": [
    "pip install plotly"
   ]
  },
  {
   "cell_type": "markdown",
   "metadata": {},
   "source": [
    "# Calculate sales from top 10 countries"
   ]
  },
  {
   "cell_type": "code",
   "execution_count": 59,
   "metadata": {},
   "outputs": [
    {
     "data": {
      "text/html": [
       "<div>\n",
       "<style scoped>\n",
       "    .dataframe tbody tr th:only-of-type {\n",
       "        vertical-align: middle;\n",
       "    }\n",
       "\n",
       "    .dataframe tbody tr th {\n",
       "        vertical-align: top;\n",
       "    }\n",
       "\n",
       "    .dataframe thead th {\n",
       "        text-align: right;\n",
       "    }\n",
       "</style>\n",
       "<table border=\"1\" class=\"dataframe\">\n",
       "  <thead>\n",
       "    <tr style=\"text-align: right;\">\n",
       "      <th></th>\n",
       "      <th>COUNTRY</th>\n",
       "      <th>SALES</th>\n",
       "      <th>QUANTITYORDERED</th>\n",
       "    </tr>\n",
       "  </thead>\n",
       "  <tbody>\n",
       "    <tr>\n",
       "      <th>0</th>\n",
       "      <td>USA</td>\n",
       "      <td>3627982.83</td>\n",
       "      <td>35659</td>\n",
       "    </tr>\n",
       "    <tr>\n",
       "      <th>1</th>\n",
       "      <td>Spain</td>\n",
       "      <td>1215686.92</td>\n",
       "      <td>12429</td>\n",
       "    </tr>\n",
       "    <tr>\n",
       "      <th>2</th>\n",
       "      <td>France</td>\n",
       "      <td>1110916.52</td>\n",
       "      <td>11090</td>\n",
       "    </tr>\n",
       "    <tr>\n",
       "      <th>3</th>\n",
       "      <td>Australia</td>\n",
       "      <td>630623.10</td>\n",
       "      <td>6246</td>\n",
       "    </tr>\n",
       "    <tr>\n",
       "      <th>4</th>\n",
       "      <td>UK</td>\n",
       "      <td>478880.46</td>\n",
       "      <td>5013</td>\n",
       "    </tr>\n",
       "    <tr>\n",
       "      <th>5</th>\n",
       "      <td>Italy</td>\n",
       "      <td>374674.31</td>\n",
       "      <td>3773</td>\n",
       "    </tr>\n",
       "    <tr>\n",
       "      <th>6</th>\n",
       "      <td>Finland</td>\n",
       "      <td>329581.91</td>\n",
       "      <td>3192</td>\n",
       "    </tr>\n",
       "    <tr>\n",
       "      <th>7</th>\n",
       "      <td>Norway</td>\n",
       "      <td>307463.70</td>\n",
       "      <td>2842</td>\n",
       "    </tr>\n",
       "    <tr>\n",
       "      <th>8</th>\n",
       "      <td>Singapore</td>\n",
       "      <td>288488.41</td>\n",
       "      <td>2760</td>\n",
       "    </tr>\n",
       "    <tr>\n",
       "      <th>9</th>\n",
       "      <td>Denmark</td>\n",
       "      <td>245637.15</td>\n",
       "      <td>2197</td>\n",
       "    </tr>\n",
       "  </tbody>\n",
       "</table>\n",
       "</div>"
      ],
      "text/plain": [
       "     COUNTRY       SALES  QUANTITYORDERED\n",
       "0        USA  3627982.83            35659\n",
       "1      Spain  1215686.92            12429\n",
       "2     France  1110916.52            11090\n",
       "3  Australia   630623.10             6246\n",
       "4         UK   478880.46             5013\n",
       "5      Italy   374674.31             3773\n",
       "6    Finland   329581.91             3192\n",
       "7     Norway   307463.70             2842\n",
       "8  Singapore   288488.41             2760\n",
       "9    Denmark   245637.15             2197"
      ]
     },
     "execution_count": 59,
     "metadata": {},
     "output_type": "execute_result"
    }
   ],
   "source": [
    "top_countries = dataset.groupby(['COUNTRY'])[['SALES','QUANTITYORDERED']].sum().sort_values(by=['SALES'], ascending=False).nlargest(10, columns=['SALES']).reset_index()\n",
    "top_countries"
   ]
  },
  {
   "cell_type": "code",
   "execution_count": 61,
   "metadata": {},
   "outputs": [
    {
     "data": {
      "text/html": [
       "<div>\n",
       "<style scoped>\n",
       "    .dataframe tbody tr th:only-of-type {\n",
       "        vertical-align: middle;\n",
       "    }\n",
       "\n",
       "    .dataframe tbody tr th {\n",
       "        vertical-align: top;\n",
       "    }\n",
       "\n",
       "    .dataframe thead th {\n",
       "        text-align: right;\n",
       "    }\n",
       "</style>\n",
       "<table border=\"1\" class=\"dataframe\">\n",
       "  <thead>\n",
       "    <tr style=\"text-align: right;\">\n",
       "      <th></th>\n",
       "      <th>COUNTRY</th>\n",
       "      <th>DEALSIZE</th>\n",
       "      <th>SALES</th>\n",
       "    </tr>\n",
       "  </thead>\n",
       "  <tbody>\n",
       "    <tr>\n",
       "      <th>0</th>\n",
       "      <td>Australia</td>\n",
       "      <td>Large</td>\n",
       "      <td>7</td>\n",
       "    </tr>\n",
       "    <tr>\n",
       "      <th>1</th>\n",
       "      <td>Australia</td>\n",
       "      <td>Medium</td>\n",
       "      <td>86</td>\n",
       "    </tr>\n",
       "    <tr>\n",
       "      <th>2</th>\n",
       "      <td>Australia</td>\n",
       "      <td>Small</td>\n",
       "      <td>92</td>\n",
       "    </tr>\n",
       "    <tr>\n",
       "      <th>3</th>\n",
       "      <td>Austria</td>\n",
       "      <td>Large</td>\n",
       "      <td>4</td>\n",
       "    </tr>\n",
       "    <tr>\n",
       "      <th>4</th>\n",
       "      <td>Austria</td>\n",
       "      <td>Medium</td>\n",
       "      <td>29</td>\n",
       "    </tr>\n",
       "    <tr>\n",
       "      <th>5</th>\n",
       "      <td>Austria</td>\n",
       "      <td>Small</td>\n",
       "      <td>22</td>\n",
       "    </tr>\n",
       "    <tr>\n",
       "      <th>6</th>\n",
       "      <td>Belgium</td>\n",
       "      <td>Medium</td>\n",
       "      <td>15</td>\n",
       "    </tr>\n",
       "    <tr>\n",
       "      <th>7</th>\n",
       "      <td>Belgium</td>\n",
       "      <td>Small</td>\n",
       "      <td>18</td>\n",
       "    </tr>\n",
       "    <tr>\n",
       "      <th>8</th>\n",
       "      <td>Canada</td>\n",
       "      <td>Large</td>\n",
       "      <td>1</td>\n",
       "    </tr>\n",
       "    <tr>\n",
       "      <th>9</th>\n",
       "      <td>Canada</td>\n",
       "      <td>Medium</td>\n",
       "      <td>33</td>\n",
       "    </tr>\n",
       "    <tr>\n",
       "      <th>10</th>\n",
       "      <td>Canada</td>\n",
       "      <td>Small</td>\n",
       "      <td>36</td>\n",
       "    </tr>\n",
       "    <tr>\n",
       "      <th>11</th>\n",
       "      <td>Denmark</td>\n",
       "      <td>Large</td>\n",
       "      <td>6</td>\n",
       "    </tr>\n",
       "    <tr>\n",
       "      <th>12</th>\n",
       "      <td>Denmark</td>\n",
       "      <td>Medium</td>\n",
       "      <td>31</td>\n",
       "    </tr>\n",
       "    <tr>\n",
       "      <th>13</th>\n",
       "      <td>Denmark</td>\n",
       "      <td>Small</td>\n",
       "      <td>26</td>\n",
       "    </tr>\n",
       "    <tr>\n",
       "      <th>14</th>\n",
       "      <td>Finland</td>\n",
       "      <td>Large</td>\n",
       "      <td>5</td>\n",
       "    </tr>\n",
       "    <tr>\n",
       "      <th>15</th>\n",
       "      <td>Finland</td>\n",
       "      <td>Medium</td>\n",
       "      <td>46</td>\n",
       "    </tr>\n",
       "    <tr>\n",
       "      <th>16</th>\n",
       "      <td>Finland</td>\n",
       "      <td>Small</td>\n",
       "      <td>41</td>\n",
       "    </tr>\n",
       "    <tr>\n",
       "      <th>17</th>\n",
       "      <td>France</td>\n",
       "      <td>Large</td>\n",
       "      <td>21</td>\n",
       "    </tr>\n",
       "    <tr>\n",
       "      <th>18</th>\n",
       "      <td>France</td>\n",
       "      <td>Medium</td>\n",
       "      <td>149</td>\n",
       "    </tr>\n",
       "    <tr>\n",
       "      <th>19</th>\n",
       "      <td>France</td>\n",
       "      <td>Small</td>\n",
       "      <td>144</td>\n",
       "    </tr>\n",
       "  </tbody>\n",
       "</table>\n",
       "</div>"
      ],
      "text/plain": [
       "      COUNTRY DEALSIZE  SALES\n",
       "0   Australia    Large      7\n",
       "1   Australia   Medium     86\n",
       "2   Australia    Small     92\n",
       "3     Austria    Large      4\n",
       "4     Austria   Medium     29\n",
       "5     Austria    Small     22\n",
       "6     Belgium   Medium     15\n",
       "7     Belgium    Small     18\n",
       "8      Canada    Large      1\n",
       "9      Canada   Medium     33\n",
       "10     Canada    Small     36\n",
       "11    Denmark    Large      6\n",
       "12    Denmark   Medium     31\n",
       "13    Denmark    Small     26\n",
       "14    Finland    Large      5\n",
       "15    Finland   Medium     46\n",
       "16    Finland    Small     41\n",
       "17     France    Large     21\n",
       "18     France   Medium    149\n",
       "19     France    Small    144"
      ]
     },
     "execution_count": 61,
     "metadata": {},
     "output_type": "execute_result"
    }
   ],
   "source": [
    "deal = dataset.groupby(['COUNTRY', 'DEALSIZE'])['SALES'].count().reset_index()\n",
    "deal.head(20)"
   ]
  },
  {
   "cell_type": "markdown",
   "metadata": {},
   "source": [
    "# count of small dealsize"
   ]
  },
  {
   "cell_type": "code",
   "execution_count": 63,
   "metadata": {},
   "outputs": [
    {
     "data": {
      "text/plain": [
       "1282"
      ]
     },
     "execution_count": 63,
     "metadata": {},
     "output_type": "execute_result"
    }
   ],
   "source": [
    "small = dataset.loc[dataset['DEALSIZE'] == 'Small'].count()[0]\n",
    "small"
   ]
  },
  {
   "cell_type": "markdown",
   "metadata": {},
   "source": [
    "# count of large dealsize"
   ]
  },
  {
   "cell_type": "code",
   "execution_count": 64,
   "metadata": {},
   "outputs": [
    {
     "data": {
      "text/plain": [
       "157"
      ]
     },
     "execution_count": 64,
     "metadata": {},
     "output_type": "execute_result"
    }
   ],
   "source": [
    "large= dataset.loc[dataset['DEALSIZE']== 'Large'].count()[0]\n",
    "large"
   ]
  },
  {
   "cell_type": "markdown",
   "metadata": {},
   "source": [
    "# count of medium dealsize"
   ]
  },
  {
   "cell_type": "code",
   "execution_count": 65,
   "metadata": {},
   "outputs": [
    {
     "data": {
      "text/plain": [
       "1384"
      ]
     },
     "execution_count": 65,
     "metadata": {},
     "output_type": "execute_result"
    }
   ],
   "source": [
    "medium = dataset.loc[dataset['DEALSIZE']== 'Medium'].count()[0]\n",
    "medium"
   ]
  },
  {
   "cell_type": "markdown",
   "metadata": {},
   "source": [
    "# Countrywise dealsize  sales "
   ]
  },
  {
   "cell_type": "code",
   "execution_count": 68,
   "metadata": {},
   "outputs": [
    {
     "data": {
      "text/html": [
       "<div>\n",
       "<style scoped>\n",
       "    .dataframe tbody tr th:only-of-type {\n",
       "        vertical-align: middle;\n",
       "    }\n",
       "\n",
       "    .dataframe tbody tr th {\n",
       "        vertical-align: top;\n",
       "    }\n",
       "\n",
       "    .dataframe thead th {\n",
       "        text-align: right;\n",
       "    }\n",
       "</style>\n",
       "<table border=\"1\" class=\"dataframe\">\n",
       "  <thead>\n",
       "    <tr style=\"text-align: right;\">\n",
       "      <th></th>\n",
       "      <th>COUNTRY</th>\n",
       "      <th>PRODUCTLINE</th>\n",
       "      <th>DEALSIZE</th>\n",
       "      <th>QUANTITYORDERED</th>\n",
       "      <th>SALES</th>\n",
       "    </tr>\n",
       "  </thead>\n",
       "  <tbody>\n",
       "    <tr>\n",
       "      <th>0</th>\n",
       "      <td>Australia</td>\n",
       "      <td>Classic Cars</td>\n",
       "      <td>Large</td>\n",
       "      <td>83</td>\n",
       "      <td>16441.84</td>\n",
       "    </tr>\n",
       "    <tr>\n",
       "      <th>1</th>\n",
       "      <td>Australia</td>\n",
       "      <td>Classic Cars</td>\n",
       "      <td>Medium</td>\n",
       "      <td>1026</td>\n",
       "      <td>127543.49</td>\n",
       "    </tr>\n",
       "    <tr>\n",
       "      <th>2</th>\n",
       "      <td>Australia</td>\n",
       "      <td>Classic Cars</td>\n",
       "      <td>Small</td>\n",
       "      <td>709</td>\n",
       "      <td>49100.21</td>\n",
       "    </tr>\n",
       "    <tr>\n",
       "      <th>3</th>\n",
       "      <td>Australia</td>\n",
       "      <td>Motorcycles</td>\n",
       "      <td>Large</td>\n",
       "      <td>95</td>\n",
       "      <td>19038.89</td>\n",
       "    </tr>\n",
       "    <tr>\n",
       "      <th>4</th>\n",
       "      <td>Australia</td>\n",
       "      <td>Motorcycles</td>\n",
       "      <td>Medium</td>\n",
       "      <td>335</td>\n",
       "      <td>38565.82</td>\n",
       "    </tr>\n",
       "    <tr>\n",
       "      <th>...</th>\n",
       "      <td>...</td>\n",
       "      <td>...</td>\n",
       "      <td>...</td>\n",
       "      <td>...</td>\n",
       "      <td>...</td>\n",
       "    </tr>\n",
       "    <tr>\n",
       "      <th>244</th>\n",
       "      <td>USA</td>\n",
       "      <td>Trucks and Buses</td>\n",
       "      <td>Medium</td>\n",
       "      <td>2341</td>\n",
       "      <td>279424.58</td>\n",
       "    </tr>\n",
       "    <tr>\n",
       "      <th>245</th>\n",
       "      <td>USA</td>\n",
       "      <td>Trucks and Buses</td>\n",
       "      <td>Small</td>\n",
       "      <td>1543</td>\n",
       "      <td>110208.40</td>\n",
       "    </tr>\n",
       "    <tr>\n",
       "      <th>246</th>\n",
       "      <td>USA</td>\n",
       "      <td>Vintage Cars</td>\n",
       "      <td>Large</td>\n",
       "      <td>548</td>\n",
       "      <td>102993.78</td>\n",
       "    </tr>\n",
       "    <tr>\n",
       "      <th>247</th>\n",
       "      <td>USA</td>\n",
       "      <td>Vintage Cars</td>\n",
       "      <td>Medium</td>\n",
       "      <td>4239</td>\n",
       "      <td>454012.17</td>\n",
       "    </tr>\n",
       "    <tr>\n",
       "      <th>248</th>\n",
       "      <td>USA</td>\n",
       "      <td>Vintage Cars</td>\n",
       "      <td>Small</td>\n",
       "      <td>3452</td>\n",
       "      <td>200749.95</td>\n",
       "    </tr>\n",
       "  </tbody>\n",
       "</table>\n",
       "<p>249 rows × 5 columns</p>\n",
       "</div>"
      ],
      "text/plain": [
       "       COUNTRY       PRODUCTLINE DEALSIZE  QUANTITYORDERED      SALES\n",
       "0    Australia      Classic Cars    Large               83   16441.84\n",
       "1    Australia      Classic Cars   Medium             1026  127543.49\n",
       "2    Australia      Classic Cars    Small              709   49100.21\n",
       "3    Australia       Motorcycles    Large               95   19038.89\n",
       "4    Australia       Motorcycles   Medium              335   38565.82\n",
       "..         ...               ...      ...              ...        ...\n",
       "244        USA  Trucks and Buses   Medium             2341  279424.58\n",
       "245        USA  Trucks and Buses    Small             1543  110208.40\n",
       "246        USA      Vintage Cars    Large              548  102993.78\n",
       "247        USA      Vintage Cars   Medium             4239  454012.17\n",
       "248        USA      Vintage Cars    Small             3452  200749.95\n",
       "\n",
       "[249 rows x 5 columns]"
      ]
     },
     "execution_count": 68,
     "metadata": {},
     "output_type": "execute_result"
    }
   ],
   "source": [
    "product_sales = dataset.groupby(['COUNTRY', 'PRODUCTLINE', 'DEALSIZE'])[['QUANTITYORDERED', 'SALES']].sum().reset_index()\n",
    "product_sales"
   ]
  },
  {
   "cell_type": "code",
   "execution_count": null,
   "metadata": {},
   "outputs": [],
   "source": []
  }
 ],
 "metadata": {
  "language_info": {
   "codemirror_mode": {
    "name": "ipython",
    "version": 3
   },
   "file_extension": ".py",
   "mimetype": "text/x-python",
   "name": "python",
   "nbconvert_exporter": "python",
   "pygments_lexer": "ipython3",
   "version": "3.8.6"
  }
 },
 "nbformat": 4,
 "nbformat_minor": 2
}